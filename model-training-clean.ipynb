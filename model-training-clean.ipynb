{
 "cells": [
  {
   "cell_type": "code",
   "execution_count": null,
   "id": "c7893fcd",
   "metadata": {},
   "outputs": [],
   "source": [
    "\n",
    "# Cell 1 — Imports\n",
    "import pandas as pd\n",
    "from sklearn.model_selection import train_test_split\n",
    "from sklearn.feature_extraction.text import TfidfVectorizer\n",
    "from sklearn.linear_model import LogisticRegression\n",
    "from sklearn.metrics import accuracy_score, classification_report\n",
    "from sklearn.preprocessing import LabelEncoder\n",
    "import joblib\n",
    "import json\n"
   ]
  },
  {
   "cell_type": "code",
   "execution_count": null,
   "id": "c1de6be8",
   "metadata": {},
   "outputs": [],
   "source": [
    "\n",
    "# Cell 2 — Load dataset\n",
    "\n",
    "# OPTION A: Load from CSV (place phishing_email_dataset.csv in same folder)\n",
    "use_hf = False   # set to True if you want HuggingFace\n",
    "\n",
    "if not use_hf:\n",
    "    df = pd.read_csv(\"phishing_email_dataset.csv\")\n",
    "else:\n",
    "    from datasets import load_dataset\n",
    "    ds = load_dataset(\"zefang-liu/phishing-email-dataset\")\n",
    "    df = pd.DataFrame(ds['train'])\n",
    "\n",
    "df.head()\n"
   ]
  },
  {
   "cell_type": "code",
   "execution_count": null,
   "id": "8c069c01",
   "metadata": {},
   "outputs": [],
   "source": [
    "\n",
    "# Cell 3 — Choose columns\n",
    "\n",
    "# Try to auto-detect text and label columns\n",
    "text_cols = [c for c in df.columns if any(k in c.lower() for k in ('text','email','body','message'))]\n",
    "label_cols = [c for c in df.columns if any(k in c.lower() for k in ('label','target','class'))]\n",
    "\n",
    "print(\"Text column candidates:\", text_cols)\n",
    "print(\"Label column candidates:\", label_cols)\n",
    "\n",
    "X = df[text_cols[0]].astype(str).fillna(\"\")\n",
    "y = df[label_cols[0]]\n"
   ]
  },
  {
   "cell_type": "code",
   "execution_count": null,
   "id": "64a20488",
   "metadata": {},
   "outputs": [],
   "source": [
    "\n",
    "# Cell 4 — Encode labels (make them numeric 0/1 etc.)\n",
    "le = LabelEncoder()\n",
    "y_encoded = le.fit_transform(y)\n",
    "\n",
    "print(\"Original labels:\", list(le.classes_))\n",
    "print(\"Encoded as:\", list(range(len(le.classes_))))\n"
   ]
  },
  {
   "cell_type": "code",
   "execution_count": null,
   "id": "cdc0c4a2",
   "metadata": {},
   "outputs": [],
   "source": [
    "\n",
    "# Cell 5 — Train/test split\n",
    "X_train, X_test, y_train, y_test = train_test_split(\n",
    "    X, y_encoded, test_size=0.2, random_state=42, stratify=y_encoded\n",
    ")\n"
   ]
  },
  {
   "cell_type": "code",
   "execution_count": null,
   "id": "10b4ee0b",
   "metadata": {},
   "outputs": [],
   "source": [
    "\n",
    "# Cell 6 — TF-IDF Vectorizer\n",
    "vectorizer = TfidfVectorizer(max_features=10000, ngram_range=(1,2), stop_words=\"english\")\n",
    "X_train_t = vectorizer.fit_transform(X_train)\n",
    "X_test_t = vectorizer.transform(X_test)\n"
   ]
  },
  {
   "cell_type": "code",
   "execution_count": null,
   "id": "ba4d7a11",
   "metadata": {},
   "outputs": [],
   "source": [
    "\n",
    "# Cell 7 — Train model\n",
    "model = LogisticRegression(max_iter=1000)\n",
    "model.fit(X_train_t, y_train)\n"
   ]
  },
  {
   "cell_type": "code",
   "execution_count": null,
   "id": "f176a241",
   "metadata": {},
   "outputs": [],
   "source": [
    "\n",
    "# Cell 8 — Evaluate\n",
    "preds = model.predict(X_test_t)\n",
    "print(\"Accuracy:\", accuracy_score(y_test, preds))\n",
    "print(classification_report(y_test, preds, target_names=le.classes_))\n"
   ]
  },
  {
   "cell_type": "code",
   "execution_count": null,
   "id": "7cca1ad3",
   "metadata": {},
   "outputs": [],
   "source": [
    "\n",
    "# Cell 9 — Save artifacts\n",
    "joblib.dump(model, \"phishing_model.pkl\")\n",
    "joblib.dump(vectorizer, \"vectorizer.pkl\")\n",
    "joblib.dump(le, \"label_encoder.pkl\")\n",
    "\n",
    "# Build human-friendly label map\n",
    "human_map = {}\n",
    "for enc_val, orig in enumerate(le.classes_):\n",
    "    if \"phish\" in orig.lower() or \"spam\" in orig.lower():\n",
    "        human_map[enc_val] = \"Phishing\"\n",
    "    else:\n",
    "        human_map[enc_val] = \"Safe\"\n",
    "\n",
    "with open(\"human_label_map.json\", \"w\") as f:\n",
    "    json.dump(human_map, f, indent=2)\n",
    "\n",
    "print(\"Saved phishing_model.pkl, vectorizer.pkl, label_encoder.pkl, human_label_map.json\")\n"
   ]
  }
 ],
 "metadata": {},
 "nbformat": 4,
 "nbformat_minor": 5
}
